{
 "cells": [
  {
   "cell_type": "code",
   "execution_count": 1,
   "id": "af936fda-6ca3-4a2e-a019-58bd51fca781",
   "metadata": {},
   "outputs": [],
   "source": [
    "dataset_path = '/mnt/edisk/dataset/imagenet-mini/val'\n",
    "qmodel_path = 'quantized.onnx'\n",
    "model_path = 'origin.onnx'"
   ]
  },
  {
   "cell_type": "code",
   "execution_count": 2,
   "id": "e6b3c837-dc4b-4ce8-befa-cccb37149da0",
   "metadata": {},
   "outputs": [],
   "source": [
    "from tqdm import tqdm\n",
    "import pickle\n",
    "\n",
    "import matplotlib.pyplot as plt\n",
    "\n",
    "import torch\n",
    "import torch.nn as nn\n",
    "from torch.utils.data import DataLoader\n",
    "\n",
    "from torch.ao.quantization.observer import HistogramObserver, PerChannelMinMaxObserver\n",
    "from torch.ao.quantization.fake_quantize import FakeQuantizeBase, FakeQuantize\n",
    "\n",
    "from onnxutils.common import DatasetUtils\n",
    "from onnxutils.quantization import symbolic_trace, ModuleQuantizer, compute_metric, mse_kernel, cosine_kernel, snr_kernel\n",
    "\n",
    "from imagenet_pipeline import ImageNetPipeline"
   ]
  },
  {
   "cell_type": "markdown",
   "id": "e3794bf9-fed2-4dcc-ae38-83f64326688b",
   "metadata": {},
   "source": [
    "# Prepare"
   ]
  },
  {
   "cell_type": "code",
   "execution_count": 3,
   "id": "fce6c9e6-2531-43e3-9ff2-de20ab34042e",
   "metadata": {},
   "outputs": [],
   "source": [
    "class M(nn.Module):\n",
    "    def __init__(self):\n",
    "        super().__init__()\n",
    "        self.conv = nn.Conv2d(3, 3, 3, padding=1, bias=False)\n",
    "        self.relu = nn.ReLU()\n",
    "\n",
    "        self.conv0 = nn.Conv2d(3, 3, 3, padding=1, bias=False)\n",
    "        self.relu0 = nn.ReLU()\n",
    "    def forward(self, x):\n",
    "        x = self.conv(x)\n",
    "        x = self.relu(x)\n",
    "\n",
    "        x = self.conv0(x)\n",
    "        x = self.relu0(x)\n",
    "        return x"
   ]
  },
  {
   "cell_type": "code",
   "execution_count": 4,
   "id": "a3e7206f-ab04-4742-bead-e499b1195837",
   "metadata": {},
   "outputs": [],
   "source": [
    "dataset = ImageNetPipeline.get_dataset(dataset_path)\n",
    "torch_model = M()\n",
    "\n",
    "torch_model.conv.reset_parameters()\n",
    "torch_model.conv0.reset_parameters()"
   ]
  },
  {
   "cell_type": "markdown",
   "id": "34567694-ac3c-4e71-a33b-5274f87e72ab",
   "metadata": {},
   "source": [
    "# Quantization"
   ]
  },
  {
   "cell_type": "code",
   "execution_count": 5,
   "id": "cb92147b-9a09-4b76-8f6a-ec1b24ff6fd4",
   "metadata": {
    "scrolled": true
   },
   "outputs": [
    {
     "name": "stdout",
     "output_type": "stream",
     "text": [
      "class GraphModule(torch.nn.Module):\n",
      "    def forward(self, x):\n",
      "         # File: /opt/miniconda3/lib/python3.10/site-packages/torch/fx/proxy.py:219 in create_proxy, code: proxy.node.stack_trace = ''.join(CapturedTraceback.extract().format())\n",
      "        conv = self.conv(x);  x = None\n",
      "        \n",
      "         # File: /opt/miniconda3/lib/python3.10/site-packages/torch/fx/proxy.py:219 in create_proxy, code: proxy.node.stack_trace = ''.join(CapturedTraceback.extract().format())\n",
      "        relu = self.relu(conv);  conv = None\n",
      "        \n",
      "        # No stacktrace found for following nodes\n",
      "        fq0 = self.fq0(relu);  relu = None\n",
      "        \n",
      "         # File: /opt/miniconda3/lib/python3.10/site-packages/torch/fx/proxy.py:219 in create_proxy, code: proxy.node.stack_trace = ''.join(CapturedTraceback.extract().format())\n",
      "        conv0 = self.conv0(fq0);  fq0 = None\n",
      "        \n",
      "         # File: /opt/miniconda3/lib/python3.10/site-packages/torch/fx/proxy.py:219 in create_proxy, code: proxy.node.stack_trace = ''.join(CapturedTraceback.extract().format())\n",
      "        relu0 = self.relu0(conv0);  conv0 = None\n",
      "        \n",
      "        # No stacktrace found for following nodes\n",
      "        fq1 = self.fq1(relu0);  relu0 = None\n",
      "        return fq1\n",
      "        \n"
     ]
    },
    {
     "data": {
      "text/plain": [
       "\"class GraphModule(torch.nn.Module):\\n    def forward(self, x):\\n         # File: /opt/miniconda3/lib/python3.10/site-packages/torch/fx/proxy.py:219 in create_proxy, code: proxy.node.stack_trace = ''.join(CapturedTraceback.extract().format())\\n        conv = self.conv(x);  x = None\\n        \\n         # File: /opt/miniconda3/lib/python3.10/site-packages/torch/fx/proxy.py:219 in create_proxy, code: proxy.node.stack_trace = ''.join(CapturedTraceback.extract().format())\\n        relu = self.relu(conv);  conv = None\\n        \\n        # No stacktrace found for following nodes\\n        fq0 = self.fq0(relu);  relu = None\\n        \\n         # File: /opt/miniconda3/lib/python3.10/site-packages/torch/fx/proxy.py:219 in create_proxy, code: proxy.node.stack_trace = ''.join(CapturedTraceback.extract().format())\\n        conv0 = self.conv0(fq0);  fq0 = None\\n        \\n         # File: /opt/miniconda3/lib/python3.10/site-packages/torch/fx/proxy.py:219 in create_proxy, code: proxy.node.stack_trace = ''.join(CapturedTraceback.extract().format())\\n        relu0 = self.relu0(conv0);  conv0 = None\\n        \\n        # No stacktrace found for following nodes\\n        fq1 = self.fq1(relu0);  relu0 = None\\n        return fq1\\n        \""
      ]
     },
     "execution_count": 5,
     "metadata": {},
     "output_type": "execute_result"
    }
   ],
   "source": [
    "graph_model = pickle.loads(pickle.dumps(torch_model))\n",
    "graph_model = symbolic_trace(graph_model)\n",
    "\n",
    "quantizer = ModuleQuantizer()\n",
    "graph_model = quantizer.quantize(graph_model, [\n",
    "    {\n",
    "        'name': 'relu',\n",
    "        'activation': FakeQuantize.with_args(observer=HistogramObserver),\n",
    "    },\n",
    "    {\n",
    "        'module_name': 'conv0',\n",
    "        'weight': FakeQuantize.with_args(observer=PerChannelMinMaxObserver),\n",
    "    },\n",
    "    {\n",
    "        'module_name': 'relu0',\n",
    "        'activation': FakeQuantize.with_args(observer=HistogramObserver),\n",
    "    },\n",
    "])\n",
    "\n",
    "graph_model.print_readable()"
   ]
  },
  {
   "cell_type": "code",
   "execution_count": 6,
   "id": "f670d68c-68b9-4b3b-a433-fd1f487b5a17",
   "metadata": {},
   "outputs": [
    {
     "name": "stderr",
     "output_type": "stream",
     "text": [
      "100%|██████████████████████████████████████████████████| 32/32 [00:05<00:00,  5.76it/s]\n"
     ]
    }
   ],
   "source": [
    "# calibration\n",
    "for m in graph_model.modules():\n",
    "    if isinstance(m, FakeQuantizeBase):\n",
    "        m.disable_fake_quant()\n",
    "\n",
    "dataloader = DataLoader(\n",
    "    DatasetUtils.take_front(\n",
    "        DatasetUtils.transform(\n",
    "            dataset,\n",
    "            lambda items: (items[0].to('cuda'),)\n",
    "        ),\n",
    "        2048\n",
    "    ),\n",
    "    batch_size=64\n",
    ")\n",
    "graph_model.eval().to('cuda')\n",
    "for data in tqdm(dataloader):\n",
    "    graph_model(*data)\n",
    "\n",
    "for m in graph_model.modules():\n",
    "    if isinstance(m, FakeQuantizeBase):\n",
    "        m.enable_fake_quant()"
   ]
  },
  {
   "cell_type": "code",
   "execution_count": 7,
   "id": "bb0f7889-ac38-4cc6-8dcd-94356ba8d175",
   "metadata": {
    "scrolled": true
   },
   "outputs": [
    {
     "name": "stderr",
     "output_type": "stream",
     "text": [
      "100%|██████████████████████████████████████████████████| 50/50 [04:28<00:00,  5.36s/it]\n"
     ]
    },
    {
     "data": {
      "text/plain": [
       "[<matplotlib.lines.Line2D at 0x7014d411d6c0>]"
      ]
     },
     "execution_count": 7,
     "metadata": {},
     "output_type": "execute_result"
    },
    {
     "data": {
      "image/png": "[encoded data removed]",
      "text/plain": [
       "<Figure size 640x480 with 1 Axes>"
      ]
     },
     "metadata": {},
     "output_type": "display_data"
    }
   ],
   "source": [
    "# QAT Training\n",
    "dataloader = DataLoader(\n",
    "    DatasetUtils.take_front(\n",
    "        DatasetUtils.transform(\n",
    "            dataset,\n",
    "            lambda items: (items[0].to('cuda'),)\n",
    "        ),\n",
    "        2048\n",
    "    ),\n",
    "    batch_size=64\n",
    ")\n",
    "torch_model.eval().to('cuda')\n",
    "graph_model.train().to('cuda')\n",
    "\n",
    "loss_vals = []\n",
    "loss_fn = nn.MSELoss()\n",
    "optimizer = torch.optim.SGD(graph_model.parameters(), lr=1e-5)\n",
    "\n",
    "for _ in tqdm(range(50)):\n",
    "    for data in dataloader:\n",
    "        gt = torch_model(*data)\n",
    "        pred = graph_model(*data)\n",
    "\n",
    "        loss = loss_fn(pred, gt)\n",
    "        loss_vals.append(loss.detach().cpu().item())\n",
    "\n",
    "        optimizer.zero_grad()\n",
    "        loss.backward()\n",
    "        optimizer.step()\n",
    "\n",
    "plt.plot(loss_vals)"
   ]
  },
  {
   "cell_type": "markdown",
   "id": "df327303-3ba3-48bb-9038-7309a0b27ba2",
   "metadata": {},
   "source": [
    "# Preview"
   ]
  },
  {
   "cell_type": "code",
   "execution_count": 8,
   "id": "146ee6fd-d03c-4f04-916e-91add7e0d30a",
   "metadata": {
    "scrolled": true
   },
   "outputs": [
    {
     "name": "stdout",
     "output_type": "stream",
     "text": [
      "tensor([0.9999, 0.9999, 0.9999, 0.9999, 1.0000, 0.9999, 0.9999, 1.0000, 0.9999,\n",
      "        1.0000, 1.0000, 1.0000, 0.9999, 0.9997, 1.0000, 1.0000],\n",
      "       device='cuda:0', grad_fn=<SumBackward1>)\n",
      "tensor([[0.0670, 0.0675],\n",
      "        [0.2007, 0.2026],\n",
      "        [0.2469, 0.2476],\n",
      "        [0.2485, 0.2513],\n",
      "        [0.2497, 0.2513],\n",
      "        [0.2484, 0.2476],\n",
      "        [0.2519, 0.2513],\n",
      "        [0.2510, 0.2513],\n",
      "        [0.2521, 0.2551],\n",
      "        [0.2532, 0.2551],\n",
      "        [0.2543, 0.2551],\n",
      "        [0.2505, 0.2513],\n",
      "        [0.2492, 0.2513],\n",
      "        [0.2544, 0.2551],\n",
      "        [0.2523, 0.2551],\n",
      "        [0.2512, 0.2551],\n",
      "        [0.2492, 0.2513],\n",
      "        [0.2566, 0.2588],\n",
      "        [0.2544, 0.2551],\n",
      "        [0.2543, 0.2551],\n",
      "        [0.2515, 0.2513],\n",
      "        [0.2525, 0.2551],\n",
      "        [0.2529, 0.2551],\n",
      "        [0.2487, 0.2513],\n",
      "        [0.2474, 0.2476],\n",
      "        [0.2485, 0.2476],\n",
      "        [0.2455, 0.2476],\n",
      "        [0.2439, 0.2438],\n",
      "        [0.2505, 0.2513],\n",
      "        [0.2560, 0.2551],\n",
      "        [0.2500, 0.2513],\n",
      "        [0.2505, 0.2513],\n",
      "        [0.2510, 0.2513],\n",
      "        [0.2497, 0.2513],\n",
      "        [0.2496, 0.2513],\n",
      "        [0.2480, 0.2476],\n",
      "        [0.2465, 0.2476],\n",
      "        [0.2451, 0.2476],\n",
      "        [0.2443, 0.2438],\n",
      "        [0.2437, 0.2438],\n",
      "        [0.2443, 0.2476],\n",
      "        [0.2455, 0.2476],\n",
      "        [0.2484, 0.2476],\n",
      "        [0.2503, 0.2513],\n",
      "        [0.2489, 0.2513],\n",
      "        [0.2462, 0.2476],\n",
      "        [0.2417, 0.2438],\n",
      "        [0.2409, 0.2438],\n",
      "        [0.2428, 0.2438],\n",
      "        [0.2390, 0.2401],\n",
      "        [0.2330, 0.2326],\n",
      "        [0.2366, 0.2363],\n",
      "        [0.2386, 0.2401],\n",
      "        [0.2421, 0.2438],\n",
      "        [0.2425, 0.2438],\n",
      "        [0.2419, 0.2438],\n",
      "        [0.2427, 0.2438],\n",
      "        [0.2388, 0.2401],\n",
      "        [0.2394, 0.2401],\n",
      "        [0.2434, 0.2438],\n",
      "        [0.2396, 0.2401],\n",
      "        [0.2396, 0.2401],\n",
      "        [0.2346, 0.2363],\n",
      "        [0.2376, 0.2401],\n",
      "        [0.2406, 0.2438],\n",
      "        [0.2395, 0.2401],\n",
      "        [0.2388, 0.2401],\n",
      "        [0.2325, 0.2326],\n",
      "        [0.2334, 0.2363],\n",
      "        [0.2339, 0.2363],\n",
      "        [0.2363, 0.2401],\n",
      "        [0.2367, 0.2363],\n",
      "        [0.2370, 0.2401],\n",
      "        [0.2385, 0.2401],\n",
      "        [0.2382, 0.2401],\n",
      "        [0.2372, 0.2363],\n",
      "        [0.2380, 0.2401],\n",
      "        [0.2377, 0.2363],\n",
      "        [0.2361, 0.2363],\n",
      "        [0.2347, 0.2363],\n",
      "        [0.2355, 0.2363],\n",
      "        [0.2356, 0.2363],\n",
      "        [0.2321, 0.2326],\n",
      "        [0.2262, 0.2251],\n",
      "        [0.2224, 0.2213],\n",
      "        [0.2219, 0.2251],\n",
      "        [0.2113, 0.2138],\n",
      "        [0.2099, 0.2101],\n",
      "        [0.2000, 0.2026],\n",
      "        [0.2099, 0.2101],\n",
      "        [0.2167, 0.2176],\n",
      "        [0.2160, 0.2176],\n",
      "        [0.2220, 0.2251],\n",
      "        [0.2252, 0.2288],\n",
      "        [0.2271, 0.2251],\n",
      "        [0.2297, 0.2288],\n",
      "        [0.2314, 0.2326],\n",
      "        [0.2288, 0.2288],\n",
      "        [0.2306, 0.2326],\n",
      "        [0.2215, 0.2213]], device='cuda:0', grad_fn=<SliceBackward0>)\n"
     ]
    }
   ],
   "source": [
    "dataloader = DataLoader(\n",
    "    DatasetUtils.drop_front(\n",
    "        DatasetUtils.transform(\n",
    "            dataset,\n",
    "            lambda items: (items[0].to('cuda'),)\n",
    "        ),\n",
    "        256\n",
    "    ),\n",
    "    batch_size=16\n",
    ")\n",
    "torch_model.eval().to('cuda')\n",
    "graph_model.eval().to('cuda')\n",
    "\n",
    "for data in dataloader:\n",
    "    gt = torch_model(*data)\n",
    "    pred = graph_model(*data)\n",
    "\n",
    "    print(compute_metric(gt, pred, cosine_kernel))\n",
    "    gt = gt.reshape(-1, 1)\n",
    "    pred = pred.reshape(-1, 1)\n",
    "    print(torch.cat([gt, pred], dim=1)[:100])\n",
    "    break"
   ]
  },
  {
   "cell_type": "markdown",
   "id": "1fac0588-1853-4f5a-a18b-5aba787f7d3e",
   "metadata": {},
   "source": [
    "# Export"
   ]
  },
  {
   "cell_type": "code",
   "execution_count": 9,
   "id": "28a29c56-a7c2-457e-8b50-a19b1520e1ce",
   "metadata": {
    "scrolled": true
   },
   "outputs": [],
   "source": [
    "finalized_model = quantizer.finalize(graph_model).to('cuda')\n",
    "torch.onnx.export(\n",
    "    finalized_model,\n",
    "    tuple(next(iter(dataloader))),\n",
    "    qmodel_path,\n",
    "    input_names=['x'],\n",
    "    output_names=['y'],\n",
    ")\n",
    "torch.onnx.export(\n",
    "    torch_model,\n",
    "    tuple(next(iter(dataloader))),\n",
    "    model_path,\n",
    "    input_names=['x'],\n",
    "    output_names=['y'],\n",
    ")"
   ]
  }
 ],
 "metadata": {
  "kernelspec": {
   "display_name": "Python 3 (ipykernel)",
   "language": "python",
   "name": "python3"
  },
  "language_info": {
   "codemirror_mode": {
    "name": "ipython",
    "version": 3
   },
   "file_extension": ".py",
   "mimetype": "text/x-python",
   "name": "python",
   "nbconvert_exporter": "python",
   "pygments_lexer": "ipython3",
   "version": "3.10.4"
  }
 },
 "nbformat": 4,
 "nbformat_minor": 5
}
