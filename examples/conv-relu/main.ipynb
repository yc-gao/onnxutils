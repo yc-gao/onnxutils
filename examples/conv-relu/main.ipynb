{
 "cells": [
  {
   "cell_type": "code",
   "execution_count": 1,
   "id": "af936fda-6ca3-4a2e-a019-58bd51fca781",
   "metadata": {},
   "outputs": [],
   "source": [
    "dataset_path = '/mnt/edisk/dataset/imagenet-mini/val'\n",
    "qmodel_path = 'quantized.onnx'\n",
    "model_path = 'origin.onnx'"
   ]
  },
  {
   "cell_type": "code",
   "execution_count": 2,
   "id": "e6b3c837-dc4b-4ce8-befa-cccb37149da0",
   "metadata": {},
   "outputs": [],
   "source": [
    "from tqdm import tqdm\n",
    "import pickle\n",
    "\n",
    "import matplotlib.pyplot as plt\n",
    "\n",
    "import torch\n",
    "import torch.nn as nn\n",
    "from torch.utils.data import DataLoader\n",
    "\n",
    "from torch.ao.quantization.observer import HistogramObserver, PerChannelMinMaxObserver\n",
    "from torch.ao.quantization.fake_quantize import FakeQuantizeBase, FakeQuantize\n",
    "\n",
    "from onnxutils.common import DatasetUtils\n",
    "from onnxutils.quantization import symbolic_trace, ModuleQuantizer, compute_metric, mse_kernel, cosine_kernel, snr_kernel\n",
    "\n",
    "from imagenet_pipeline import ImageNetPipeline"
   ]
  },
  {
   "cell_type": "markdown",
   "id": "e3794bf9-fed2-4dcc-ae38-83f64326688b",
   "metadata": {},
   "source": [
    "# Prepare"
   ]
  },
  {
   "cell_type": "code",
   "execution_count": 3,
   "id": "fce6c9e6-2531-43e3-9ff2-de20ab34042e",
   "metadata": {},
   "outputs": [],
   "source": [
    "class M(nn.Module):\n",
    "    def __init__(self):\n",
    "        super().__init__()\n",
    "        self.conv = nn.Conv2d(3, 3, 3, padding=1, bias=False)\n",
    "        self.relu = nn.ReLU()\n",
    "\n",
    "        self.conv0 = nn.Conv2d(3, 3, 3, padding=1, bias=False)\n",
    "        self.relu0 = nn.ReLU()\n",
    "    def forward(self, x):\n",
    "        x = self.conv(x)\n",
    "        x = self.relu(x)\n",
    "\n",
    "        x = self.conv0(x)\n",
    "        x = self.relu0(x)\n",
    "        return x"
   ]
  },
  {
   "cell_type": "code",
   "execution_count": 4,
   "id": "a3e7206f-ab04-4742-bead-e499b1195837",
   "metadata": {},
   "outputs": [],
   "source": [
    "dataset = ImageNetPipeline.get_dataset(dataset_path)\n",
    "torch_model = M()\n",
    "\n",
    "torch_model.conv.reset_parameters()\n",
    "torch_model.conv0.reset_parameters()"
   ]
  },
  {
   "cell_type": "markdown",
   "id": "d055896c-9a37-4885-8a18-a7e49c6d63e4",
   "metadata": {},
   "source": [
    "# Analysis"
   ]
  },
  {
   "cell_type": "markdown",
   "id": "34567694-ac3c-4e71-a33b-5274f87e72ab",
   "metadata": {},
   "source": [
    "# Quantization"
   ]
  },
  {
   "cell_type": "code",
   "execution_count": 5,
   "id": "cb92147b-9a09-4b76-8f6a-ec1b24ff6fd4",
   "metadata": {
    "scrolled": true
   },
   "outputs": [
    {
     "name": "stdout",
     "output_type": "stream",
     "text": [
      "class GraphModule(torch.nn.Module):\n",
      "    def forward(self, x):\n",
      "         # File: /opt/miniconda3/lib/python3.10/site-packages/torch/fx/proxy.py:219 in create_proxy, code: proxy.node.stack_trace = ''.join(CapturedTraceback.extract().format())\n",
      "        conv = self.conv(x);  x = None\n",
      "        \n",
      "         # File: /opt/miniconda3/lib/python3.10/site-packages/torch/fx/proxy.py:219 in create_proxy, code: proxy.node.stack_trace = ''.join(CapturedTraceback.extract().format())\n",
      "        relu = self.relu(conv);  conv = None\n",
      "        \n",
      "        # No stacktrace found for following nodes\n",
      "        fq0 = self.fq0(relu);  relu = None\n",
      "        \n",
      "         # File: /opt/miniconda3/lib/python3.10/site-packages/torch/fx/proxy.py:219 in create_proxy, code: proxy.node.stack_trace = ''.join(CapturedTraceback.extract().format())\n",
      "        conv0 = self.conv0(fq0);  fq0 = None\n",
      "        \n",
      "         # File: /opt/miniconda3/lib/python3.10/site-packages/torch/fx/proxy.py:219 in create_proxy, code: proxy.node.stack_trace = ''.join(CapturedTraceback.extract().format())\n",
      "        relu0 = self.relu0(conv0);  conv0 = None\n",
      "        \n",
      "        # No stacktrace found for following nodes\n",
      "        fq1 = self.fq1(relu0);  relu0 = None\n",
      "        return fq1\n",
      "        \n"
     ]
    },
    {
     "data": {
      "text/plain": [
       "\"class GraphModule(torch.nn.Module):\\n    def forward(self, x):\\n         # File: /opt/miniconda3/lib/python3.10/site-packages/torch/fx/proxy.py:219 in create_proxy, code: proxy.node.stack_trace = ''.join(CapturedTraceback.extract().format())\\n        conv = self.conv(x);  x = None\\n        \\n         # File: /opt/miniconda3/lib/python3.10/site-packages/torch/fx/proxy.py:219 in create_proxy, code: proxy.node.stack_trace = ''.join(CapturedTraceback.extract().format())\\n        relu = self.relu(conv);  conv = None\\n        \\n        # No stacktrace found for following nodes\\n        fq0 = self.fq0(relu);  relu = None\\n        \\n         # File: /opt/miniconda3/lib/python3.10/site-packages/torch/fx/proxy.py:219 in create_proxy, code: proxy.node.stack_trace = ''.join(CapturedTraceback.extract().format())\\n        conv0 = self.conv0(fq0);  fq0 = None\\n        \\n         # File: /opt/miniconda3/lib/python3.10/site-packages/torch/fx/proxy.py:219 in create_proxy, code: proxy.node.stack_trace = ''.join(CapturedTraceback.extract().format())\\n        relu0 = self.relu0(conv0);  conv0 = None\\n        \\n        # No stacktrace found for following nodes\\n        fq1 = self.fq1(relu0);  relu0 = None\\n        return fq1\\n        \""
      ]
     },
     "execution_count": 5,
     "metadata": {},
     "output_type": "execute_result"
    }
   ],
   "source": [
    "graph_model = pickle.loads(pickle.dumps(torch_model))\n",
    "graph_model = symbolic_trace(graph_model)\n",
    "\n",
    "quantizer = ModuleQuantizer()\n",
    "graph_model = quantizer.quantize(graph_model, [\n",
    "    {\n",
    "        'name': 'relu',\n",
    "        'activation': FakeQuantize.with_args(observer=HistogramObserver),\n",
    "    },\n",
    "    {\n",
    "        'module_name': 'conv0',\n",
    "        'weight': FakeQuantize.with_args(observer=PerChannelMinMaxObserver),\n",
    "    },\n",
    "    {\n",
    "        'module_name': 'relu0',\n",
    "        'activation': FakeQuantize.with_args(observer=HistogramObserver),\n",
    "    },\n",
    "])\n",
    "\n",
    "graph_model.print_readable()"
   ]
  },
  {
   "cell_type": "code",
   "execution_count": 6,
   "id": "f670d68c-68b9-4b3b-a433-fd1f487b5a17",
   "metadata": {},
   "outputs": [
    {
     "name": "stderr",
     "output_type": "stream",
     "text": [
      "100%|██████████████████████████████████████████████████| 32/32 [00:06<00:00,  5.31it/s]\n"
     ]
    }
   ],
   "source": [
    "# calibration\n",
    "for m in graph_model.modules():\n",
    "    if isinstance(m, FakeQuantizeBase):\n",
    "        m.disable_fake_quant()\n",
    "\n",
    "dataloader = DataLoader(\n",
    "    DatasetUtils.take_front(\n",
    "        DatasetUtils.transform(\n",
    "            dataset,\n",
    "            lambda items: (items[0].to('cuda'),)\n",
    "        ),\n",
    "        2048\n",
    "    ),\n",
    "    batch_size=64\n",
    ")\n",
    "graph_model.eval().to('cuda')\n",
    "for data in tqdm(dataloader):\n",
    "    graph_model(*data)\n",
    "\n",
    "for m in graph_model.modules():\n",
    "    if isinstance(m, FakeQuantizeBase):\n",
    "        m.enable_fake_quant()"
   ]
  },
  {
   "cell_type": "code",
   "execution_count": 7,
   "id": "bb0f7889-ac38-4cc6-8dcd-94356ba8d175",
   "metadata": {
    "scrolled": true
   },
   "outputs": [
    {
     "name": "stderr",
     "output_type": "stream",
     "text": [
      "100%|██████████████████████████████████████████████████| 50/50 [04:29<00:00,  5.40s/it]\n"
     ]
    },
    {
     "data": {
      "text/plain": [
       "[<matplotlib.lines.Line2D at 0x7b5a207442e0>]"
      ]
     },
     "execution_count": 7,
     "metadata": {},
     "output_type": "execute_result"
    },
    {
     "data": {
      "image/png": "[encoded data removed]",
      "text/plain": [
       "<Figure size 640x480 with 1 Axes>"
      ]
     },
     "metadata": {},
     "output_type": "display_data"
    }
   ],
   "source": [
    "# QAT Training\n",
    "dataloader = DataLoader(\n",
    "    DatasetUtils.take_front(\n",
    "        DatasetUtils.transform(\n",
    "            dataset,\n",
    "            lambda items: (items[0].to('cuda'),)\n",
    "        ),\n",
    "        2048\n",
    "    ),\n",
    "    batch_size=64\n",
    ")\n",
    "torch_model.eval().to('cuda')\n",
    "graph_model.train().to('cuda')\n",
    "\n",
    "loss_vals = []\n",
    "loss_fn = nn.MSELoss()\n",
    "optimizer = torch.optim.SGD(graph_model.parameters(), lr=1e-5)\n",
    "\n",
    "for _ in tqdm(range(50)):\n",
    "    for data in dataloader:\n",
    "        gt = torch_model(*data)\n",
    "        pred = graph_model(*data)\n",
    "\n",
    "        loss = loss_fn(pred, gt)\n",
    "        loss_vals.append(loss.detach().cpu().item())\n",
    "\n",
    "        optimizer.zero_grad()\n",
    "        loss.backward()\n",
    "        optimizer.step()\n",
    "\n",
    "plt.plot(loss_vals)"
   ]
  },
  {
   "cell_type": "markdown",
   "id": "df327303-3ba3-48bb-9038-7309a0b27ba2",
   "metadata": {},
   "source": [
    "# Preview"
   ]
  },
  {
   "cell_type": "code",
   "execution_count": 10,
   "id": "146ee6fd-d03c-4f04-916e-91add7e0d30a",
   "metadata": {
    "scrolled": true
   },
   "outputs": [
    {
     "name": "stdout",
     "output_type": "stream",
     "text": [
      "tensor([0.9999, 0.9999, 1.0000, 1.0000, 1.0000, 0.9999, 0.9999, 1.0000, 0.9999,\n",
      "        1.0000, 1.0000, 0.9999, 0.9999, 0.9999, 1.0000, 0.9999],\n",
      "       device='cuda:0', grad_fn=<SumBackward1>)\n",
      "tensor([[0.0335, 0.0340],\n",
      "        [0.0244, 0.0243],\n",
      "        [0.0398, 0.0389],\n",
      "        [0.0410, 0.0389],\n",
      "        [0.0388, 0.0389],\n",
      "        [0.0422, 0.0437],\n",
      "        [0.0381, 0.0389],\n",
      "        [0.0370, 0.0389],\n",
      "        [0.0391, 0.0389],\n",
      "        [0.0405, 0.0389],\n",
      "        [0.0405, 0.0389],\n",
      "        [0.0379, 0.0389],\n",
      "        [0.0413, 0.0437],\n",
      "        [0.0408, 0.0389],\n",
      "        [0.0420, 0.0437],\n",
      "        [0.0370, 0.0389],\n",
      "        [0.0404, 0.0389],\n",
      "        [0.0417, 0.0437],\n",
      "        [0.0413, 0.0389],\n",
      "        [0.0421, 0.0437],\n",
      "        [0.0384, 0.0389],\n",
      "        [0.0370, 0.0389],\n",
      "        [0.0376, 0.0389],\n",
      "        [0.0400, 0.0389],\n",
      "        [0.0392, 0.0389],\n",
      "        [0.0413, 0.0389],\n",
      "        [0.0403, 0.0389],\n",
      "        [0.0406, 0.0389],\n",
      "        [0.0433, 0.0437],\n",
      "        [0.0446, 0.0437],\n",
      "        [0.0392, 0.0389],\n",
      "        [0.0423, 0.0437],\n",
      "        [0.0412, 0.0389],\n",
      "        [0.0401, 0.0389],\n",
      "        [0.0415, 0.0437],\n",
      "        [0.0387, 0.0389],\n",
      "        [0.0378, 0.0389],\n",
      "        [0.0377, 0.0389],\n",
      "        [0.0394, 0.0389],\n",
      "        [0.0382, 0.0389],\n",
      "        [0.0384, 0.0389],\n",
      "        [0.0394, 0.0389],\n",
      "        [0.0372, 0.0389],\n",
      "        [0.0373, 0.0389],\n",
      "        [0.0404, 0.0389],\n",
      "        [0.0361, 0.0340],\n",
      "        [0.0369, 0.0389],\n",
      "        [0.0385, 0.0389],\n",
      "        [0.0357, 0.0340],\n",
      "        [0.0358, 0.0389],\n",
      "        [0.0375, 0.0389],\n",
      "        [0.0349, 0.0340],\n",
      "        [0.0340, 0.0340],\n",
      "        [0.0322, 0.0340],\n",
      "        [0.0353, 0.0389],\n",
      "        [0.0370, 0.0389],\n",
      "        [0.0358, 0.0389],\n",
      "        [0.0343, 0.0340],\n",
      "        [0.0325, 0.0292],\n",
      "        [0.0317, 0.0292],\n",
      "        [0.0355, 0.0389],\n",
      "        [0.0340, 0.0340],\n",
      "        [0.0327, 0.0340],\n",
      "        [0.0330, 0.0340],\n",
      "        [0.0294, 0.0292],\n",
      "        [0.0328, 0.0340],\n",
      "        [0.0324, 0.0340],\n",
      "        [0.0332, 0.0340],\n",
      "        [0.0328, 0.0340],\n",
      "        [0.0334, 0.0340],\n",
      "        [0.0327, 0.0292],\n",
      "        [0.0327, 0.0340],\n",
      "        [0.0313, 0.0340],\n",
      "        [0.0283, 0.0292],\n",
      "        [0.0308, 0.0292],\n",
      "        [0.0299, 0.0292],\n",
      "        [0.0295, 0.0292],\n",
      "        [0.0280, 0.0292],\n",
      "        [0.0306, 0.0292],\n",
      "        [0.0297, 0.0292],\n",
      "        [0.0288, 0.0292],\n",
      "        [0.0361, 0.0389],\n",
      "        [0.0339, 0.0340],\n",
      "        [0.0301, 0.0292],\n",
      "        [0.0349, 0.0340],\n",
      "        [0.0322, 0.0340],\n",
      "        [0.0364, 0.0389],\n",
      "        [0.0261, 0.0292],\n",
      "        [0.0227, 0.0243],\n",
      "        [0.0291, 0.0292],\n",
      "        [0.0302, 0.0292],\n",
      "        [0.0356, 0.0340],\n",
      "        [0.0326, 0.0340],\n",
      "        [0.0319, 0.0292],\n",
      "        [0.0344, 0.0340],\n",
      "        [0.0355, 0.0389],\n",
      "        [0.0337, 0.0340],\n",
      "        [0.0368, 0.0389],\n",
      "        [0.0444, 0.0437],\n",
      "        [0.0407, 0.0389]], device='cuda:0', grad_fn=<SliceBackward0>)\n"
     ]
    }
   ],
   "source": [
    "dataloader = DataLoader(\n",
    "    DatasetUtils.drop_front(\n",
    "        DatasetUtils.transform(\n",
    "            dataset,\n",
    "            lambda items: (items[0].to('cuda'),)\n",
    "        ),\n",
    "        256\n",
    "    ),\n",
    "    batch_size=16\n",
    ")\n",
    "torch_model.eval().to('cuda')\n",
    "graph_model.eval().to('cuda')\n",
    "\n",
    "for data in dataloader:\n",
    "    gt = torch_model(*data)\n",
    "    pred = graph_model(*data)\n",
    "\n",
    "    print(compute_metric(gt, pred, cosine_kernel))\n",
    "    gt = gt.reshape(-1, 1)\n",
    "    pred = pred.reshape(-1, 1)\n",
    "    print(torch.cat([gt, pred], dim=1)[:100])\n",
    "    break"
   ]
  },
  {
   "cell_type": "markdown",
   "id": "1fac0588-1853-4f5a-a18b-5aba787f7d3e",
   "metadata": {},
   "source": [
    "# Export"
   ]
  },
  {
   "cell_type": "code",
   "execution_count": 11,
   "id": "28a29c56-a7c2-457e-8b50-a19b1520e1ce",
   "metadata": {
    "scrolled": true
   },
   "outputs": [],
   "source": [
    "finalized_model = quantizer.finalize(graph_model).to('cuda')\n",
    "torch.onnx.export(\n",
    "    finalized_model,\n",
    "    tuple(next(iter(dataloader))),\n",
    "    qmodel_path,\n",
    "    input_names=['x'],\n",
    "    output_names=['y'],\n",
    ")\n",
    "torch.onnx.export(\n",
    "    torch_model,\n",
    "    tuple(next(iter(dataloader))),\n",
    "    model_path,\n",
    "    input_names=['x'],\n",
    "    output_names=['y'],\n",
    ")"
   ]
  }
 ],
 "metadata": {
  "kernelspec": {
   "display_name": "Python 3 (ipykernel)",
   "language": "python",
   "name": "python3"
  },
  "language_info": {
   "codemirror_mode": {
    "name": "ipython",
    "version": 3
   },
   "file_extension": ".py",
   "mimetype": "text/x-python",
   "name": "python",
   "nbconvert_exporter": "python",
   "pygments_lexer": "ipython3",
   "version": "3.10.4"
  }
 },
 "nbformat": 4,
 "nbformat_minor": 5
}
